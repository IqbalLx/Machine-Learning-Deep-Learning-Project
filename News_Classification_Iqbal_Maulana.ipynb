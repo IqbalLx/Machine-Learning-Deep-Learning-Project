{
  "nbformat": 4,
  "nbformat_minor": 0,
  "metadata": {
    "colab": {
      "name": "News_Classification_Iqbal_Maulana.ipynb",
      "provenance": [],
      "toc_visible": true,
      "include_colab_link": true
    },
    "kernelspec": {
      "name": "python3",
      "display_name": "Python 3"
    },
    "accelerator": "GPU"
  },
  "cells": [
    {
      "cell_type": "markdown",
      "metadata": {
        "id": "view-in-github",
        "colab_type": "text"
      },
      "source": [
        "<a href=\"https://colab.research.google.com/github/IqbalLx/Machine-Learning-Deep-Learning-Project/blob/master/News_Classification_Iqbal_Maulana.ipynb\" target=\"_parent\"><img src=\"https://colab.research.google.com/assets/colab-badge.svg\" alt=\"Open In Colab\"/></a>"
      ]
    },
    {
      "cell_type": "markdown",
      "metadata": {
        "id": "LmrQTLfdntwg"
      },
      "source": [
        "# News Classification\n",
        "---"
      ]
    },
    {
      "cell_type": "markdown",
      "metadata": {
        "id": "K2AZJzddoBj2"
      },
      "source": [
        "##Prepare dataset from Kaggle"
      ]
    },
    {
      "cell_type": "code",
      "metadata": {
        "id": "Q4n5ukNAoyb0"
      },
      "source": [
        "from google.colab import files\n",
        "files.upload() #Upload kaggle API"
      ],
      "execution_count": null,
      "outputs": []
    },
    {
      "cell_type": "code",
      "metadata": {
        "id": "y_7j8D3ipGd0",
        "outputId": "36c4eb7d-c48e-4318-cc42-12f1c1252cd0",
        "colab": {
          "base_uri": "https://localhost:8080/",
          "height": 68
        }
      },
      "source": [
        "!pip install -q kaggle                                                           # Installing required kaggle library\n",
        "!mkdir ~/.kaggle                                                                 # Create new Kaggle directory to store our API key in root\n",
        "!cp kaggle.json ~/.kaggle                                                        # Copy the API to root folder\n",
        "!chmod 600 ~/.kaggle/kaggle.json                                                 # Give access\n",
        "!kaggle datasets download -d amananandrai/ag-news-classification-dataset          # Download dataset"
      ],
      "execution_count": null,
      "outputs": [
        {
          "output_type": "stream",
          "text": [
            "Downloading ag-news-classification-dataset.zip to /content\n",
            " 79% 9.00M/11.4M [00:00<00:00, 15.9MB/s]\n",
            "100% 11.4M/11.4M [00:00<00:00, 16.7MB/s]\n"
          ],
          "name": "stdout"
        }
      ]
    },
    {
      "cell_type": "code",
      "metadata": {
        "id": "08If26IfpWl1",
        "outputId": "e251c34e-f270-4adb-ce9a-21b2bec0902c",
        "colab": {
          "base_uri": "https://localhost:8080/",
          "height": 68
        }
      },
      "source": [
        "!unzip ag-news-classification-dataset.zip"
      ],
      "execution_count": null,
      "outputs": [
        {
          "output_type": "stream",
          "text": [
            "Archive:  ag-news-classification-dataset.zip\n",
            "  inflating: test.csv                \n",
            "  inflating: train.csv               \n"
          ],
          "name": "stdout"
        }
      ]
    },
    {
      "cell_type": "markdown",
      "metadata": {
        "id": "ck3wqgRapchj"
      },
      "source": [
        "## Pre-process Dataset"
      ]
    },
    {
      "cell_type": "code",
      "metadata": {
        "id": "fOrBLUsZpa1U"
      },
      "source": [
        "import pandas as pd\n",
        "import numpy as np\n",
        "from sklearn.model_selection import train_test_split"
      ],
      "execution_count": null,
      "outputs": []
    },
    {
      "cell_type": "code",
      "metadata": {
        "id": "Ffi--PFwpp4L",
        "outputId": "42ea52cf-8a2a-4fc6-af13-63505a670cbe",
        "colab": {
          "base_uri": "https://localhost:8080/",
          "height": 204
        }
      },
      "source": [
        "train_df = pd.read_csv(\"train.csv\")\n",
        "test_df = pd.read_csv(\"test.csv\")\n",
        "\n",
        "news = pd.concat([train_df, test_df], axis=0)\n",
        "news.head()"
      ],
      "execution_count": null,
      "outputs": [
        {
          "output_type": "execute_result",
          "data": {
            "text/html": [
              "<div>\n",
              "<style scoped>\n",
              "    .dataframe tbody tr th:only-of-type {\n",
              "        vertical-align: middle;\n",
              "    }\n",
              "\n",
              "    .dataframe tbody tr th {\n",
              "        vertical-align: top;\n",
              "    }\n",
              "\n",
              "    .dataframe thead th {\n",
              "        text-align: right;\n",
              "    }\n",
              "</style>\n",
              "<table border=\"1\" class=\"dataframe\">\n",
              "  <thead>\n",
              "    <tr style=\"text-align: right;\">\n",
              "      <th></th>\n",
              "      <th>Class Index</th>\n",
              "      <th>Title</th>\n",
              "      <th>Description</th>\n",
              "    </tr>\n",
              "  </thead>\n",
              "  <tbody>\n",
              "    <tr>\n",
              "      <th>0</th>\n",
              "      <td>3</td>\n",
              "      <td>Wall St. Bears Claw Back Into the Black (Reuters)</td>\n",
              "      <td>Reuters - Short-sellers, Wall Street's dwindli...</td>\n",
              "    </tr>\n",
              "    <tr>\n",
              "      <th>1</th>\n",
              "      <td>3</td>\n",
              "      <td>Carlyle Looks Toward Commercial Aerospace (Reu...</td>\n",
              "      <td>Reuters - Private investment firm Carlyle Grou...</td>\n",
              "    </tr>\n",
              "    <tr>\n",
              "      <th>2</th>\n",
              "      <td>3</td>\n",
              "      <td>Oil and Economy Cloud Stocks' Outlook (Reuters)</td>\n",
              "      <td>Reuters - Soaring crude prices plus worries\\ab...</td>\n",
              "    </tr>\n",
              "    <tr>\n",
              "      <th>3</th>\n",
              "      <td>3</td>\n",
              "      <td>Iraq Halts Oil Exports from Main Southern Pipe...</td>\n",
              "      <td>Reuters - Authorities have halted oil export\\f...</td>\n",
              "    </tr>\n",
              "    <tr>\n",
              "      <th>4</th>\n",
              "      <td>3</td>\n",
              "      <td>Oil prices soar to all-time record, posing new...</td>\n",
              "      <td>AFP - Tearaway world oil prices, toppling reco...</td>\n",
              "    </tr>\n",
              "  </tbody>\n",
              "</table>\n",
              "</div>"
            ],
            "text/plain": [
              "   Class Index  ...                                        Description\n",
              "0            3  ...  Reuters - Short-sellers, Wall Street's dwindli...\n",
              "1            3  ...  Reuters - Private investment firm Carlyle Grou...\n",
              "2            3  ...  Reuters - Soaring crude prices plus worries\\ab...\n",
              "3            3  ...  Reuters - Authorities have halted oil export\\f...\n",
              "4            3  ...  AFP - Tearaway world oil prices, toppling reco...\n",
              "\n",
              "[5 rows x 3 columns]"
            ]
          },
          "metadata": {
            "tags": []
          },
          "execution_count": 5
        }
      ]
    },
    {
      "cell_type": "code",
      "metadata": {
        "id": "_VmwFVXepuAC",
        "outputId": "09024782-9e49-47f9-b977-9aa919e0d1d6",
        "colab": {
          "base_uri": "https://localhost:8080/",
          "height": 204
        }
      },
      "source": [
        "news['Description'] = news['Title'] + ' ' + news['Description']\n",
        "news.drop('Title', axis=1, inplace=True)\n",
        "news.head()"
      ],
      "execution_count": null,
      "outputs": [
        {
          "output_type": "execute_result",
          "data": {
            "text/html": [
              "<div>\n",
              "<style scoped>\n",
              "    .dataframe tbody tr th:only-of-type {\n",
              "        vertical-align: middle;\n",
              "    }\n",
              "\n",
              "    .dataframe tbody tr th {\n",
              "        vertical-align: top;\n",
              "    }\n",
              "\n",
              "    .dataframe thead th {\n",
              "        text-align: right;\n",
              "    }\n",
              "</style>\n",
              "<table border=\"1\" class=\"dataframe\">\n",
              "  <thead>\n",
              "    <tr style=\"text-align: right;\">\n",
              "      <th></th>\n",
              "      <th>Class Index</th>\n",
              "      <th>Description</th>\n",
              "    </tr>\n",
              "  </thead>\n",
              "  <tbody>\n",
              "    <tr>\n",
              "      <th>0</th>\n",
              "      <td>3</td>\n",
              "      <td>Wall St. Bears Claw Back Into the Black (Reute...</td>\n",
              "    </tr>\n",
              "    <tr>\n",
              "      <th>1</th>\n",
              "      <td>3</td>\n",
              "      <td>Carlyle Looks Toward Commercial Aerospace (Reu...</td>\n",
              "    </tr>\n",
              "    <tr>\n",
              "      <th>2</th>\n",
              "      <td>3</td>\n",
              "      <td>Oil and Economy Cloud Stocks' Outlook (Reuters...</td>\n",
              "    </tr>\n",
              "    <tr>\n",
              "      <th>3</th>\n",
              "      <td>3</td>\n",
              "      <td>Iraq Halts Oil Exports from Main Southern Pipe...</td>\n",
              "    </tr>\n",
              "    <tr>\n",
              "      <th>4</th>\n",
              "      <td>3</td>\n",
              "      <td>Oil prices soar to all-time record, posing new...</td>\n",
              "    </tr>\n",
              "  </tbody>\n",
              "</table>\n",
              "</div>"
            ],
            "text/plain": [
              "   Class Index                                        Description\n",
              "0            3  Wall St. Bears Claw Back Into the Black (Reute...\n",
              "1            3  Carlyle Looks Toward Commercial Aerospace (Reu...\n",
              "2            3  Oil and Economy Cloud Stocks' Outlook (Reuters...\n",
              "3            3  Iraq Halts Oil Exports from Main Southern Pipe...\n",
              "4            3  Oil prices soar to all-time record, posing new..."
            ]
          },
          "metadata": {
            "tags": []
          },
          "execution_count": 6
        }
      ]
    },
    {
      "cell_type": "markdown",
      "metadata": {
        "id": "CB0KBez5BIPf"
      },
      "source": [
        "### EDA"
      ]
    },
    {
      "cell_type": "code",
      "metadata": {
        "id": "8cAxI8YqBKOy"
      },
      "source": [
        "import matplotlib.pyplot as plt\n",
        "\n",
        "plt.style.use('seaborn')"
      ],
      "execution_count": null,
      "outputs": []
    },
    {
      "cell_type": "code",
      "metadata": {
        "id": "itgzOCRKJl8w",
        "outputId": "c801ae42-3376-46d3-db16-12c06e569816",
        "colab": {
          "base_uri": "https://localhost:8080/",
          "height": 170
        }
      },
      "source": [
        "news.info()"
      ],
      "execution_count": null,
      "outputs": [
        {
          "output_type": "stream",
          "text": [
            "<class 'pandas.core.frame.DataFrame'>\n",
            "Int64Index: 127600 entries, 0 to 7599\n",
            "Data columns (total 2 columns):\n",
            " #   Column       Non-Null Count   Dtype \n",
            "---  ------       --------------   ----- \n",
            " 0   Class Index  127600 non-null  int64 \n",
            " 1   Description  127600 non-null  object\n",
            "dtypes: int64(1), object(1)\n",
            "memory usage: 2.9+ MB\n"
          ],
          "name": "stdout"
        }
      ]
    },
    {
      "cell_type": "code",
      "metadata": {
        "id": "jWmq2QpDLuy6",
        "outputId": "ceac5c63-baf7-421f-d02b-7e8ead30c5d5",
        "colab": {
          "base_uri": "https://localhost:8080/",
          "height": 34
        }
      },
      "source": [
        "news['Class Index'].unique()"
      ],
      "execution_count": null,
      "outputs": [
        {
          "output_type": "execute_result",
          "data": {
            "text/plain": [
              "array([3, 4, 2, 1])"
            ]
          },
          "metadata": {
            "tags": []
          },
          "execution_count": 9
        }
      ]
    },
    {
      "cell_type": "code",
      "metadata": {
        "id": "Yfa7mkabBMpg"
      },
      "source": [
        "news['length'] = news['Description'].apply(len)"
      ],
      "execution_count": null,
      "outputs": []
    },
    {
      "cell_type": "code",
      "metadata": {
        "id": "bz1Bgv3YBY-Z",
        "outputId": "c5537071-90f2-4174-fb2c-d5b0643b16ea",
        "colab": {
          "base_uri": "https://localhost:8080/",
          "height": 378
        }
      },
      "source": [
        "plt.hist(news[news['Class Index']==1]['length'], bins=30, color='red', alpha=0.3, label='World')\n",
        "plt.hist(news[news['Class Index']==2]['length'], bins=30, color='green', alpha=0.3,label='Sports')\n",
        "plt.hist(news[news['Class Index']==3]['length'], bins=30, color='blue', alpha=0.3,label='Business')\n",
        "plt.hist(news[news['Class Index']==4]['length'], bins=30, color='yellow', alpha=0.3,label='Science')\n",
        "\n",
        "plt.xlabel(\"Desc Length\")\n",
        "plt.ylabel(\"Frequency\")\n",
        "\n",
        "plt.legend()\n",
        "plt.plot()"
      ],
      "execution_count": null,
      "outputs": [
        {
          "output_type": "execute_result",
          "data": {
            "text/plain": [
              "[]"
            ]
          },
          "metadata": {
            "tags": []
          },
          "execution_count": 11
        },
        {
          "output_type": "display_data",
          "data": {
            "image/png": "[encoded data removed]",
            "text/plain": [
              "<Figure size 576x396 with 1 Axes>"
            ]
          },
          "metadata": {
            "tags": []
          }
        }
      ]
    },
    {
      "cell_type": "markdown",
      "metadata": {
        "id": "-ausEEgiCOCI"
      },
      "source": [
        "Seems all desc lenght pretty equal"
      ]
    },
    {
      "cell_type": "code",
      "metadata": {
        "id": "LmN3yG5VDJdL",
        "outputId": "89da21ba-835d-47d6-c145-d5d885d4cf25",
        "colab": {
          "base_uri": "https://localhost:8080/",
          "height": 361
        }
      },
      "source": [
        "distribution = news.groupby('Class Index').agg('count').reset_index()\n",
        "plt.bar(distribution['Class Index'], distribution['Description'])\n",
        "\n",
        "plt.ylabel('Count')\n",
        "plt.xlabel('Class')\n",
        "\n",
        "plt.show()"
      ],
      "execution_count": null,
      "outputs": [
        {
          "output_type": "display_data",
          "data": {
            "image/png": "[encoded data removed]",
            "text/plain": [
              "<Figure size 576x396 with 1 Axes>"
            ]
          },
          "metadata": {
            "tags": []
          }
        }
      ]
    },
    {
      "cell_type": "markdown",
      "metadata": {
        "id": "ZU4bvpIoEVGl"
      },
      "source": [
        "Really ?! This dataset is very very very balanced, I love it!"
      ]
    },
    {
      "cell_type": "markdown",
      "metadata": {
        "id": "NNdRRqcF_LOR"
      },
      "source": [
        "### Cleaning"
      ]
    },
    {
      "cell_type": "markdown",
      "metadata": {
        "id": "at2ihZyIEe0A"
      },
      "source": [
        "**Main objective:**\n",
        "- remove stopwords. Stopwords list available on nltk module\n",
        "- remove punctuation. Punc list abailable on string module"
      ]
    },
    {
      "cell_type": "code",
      "metadata": {
        "id": "9cOD1T0a_iix",
        "outputId": "a5cfdd30-58f3-4ef9-fd55-60f4e5da9b9d",
        "colab": {
          "base_uri": "https://localhost:8080/",
          "height": 68
        }
      },
      "source": [
        "import string\n",
        "import nltk\n",
        "\n",
        "nltk.download('stopwords')"
      ],
      "execution_count": null,
      "outputs": [
        {
          "output_type": "stream",
          "text": [
            "[nltk_data] Downloading package stopwords to /root/nltk_data...\n",
            "[nltk_data]   Unzipping corpora/stopwords.zip.\n"
          ],
          "name": "stdout"
        },
        {
          "output_type": "execute_result",
          "data": {
            "text/plain": [
              "True"
            ]
          },
          "metadata": {
            "tags": []
          },
          "execution_count": 13
        }
      ]
    },
    {
      "cell_type": "code",
      "metadata": {
        "id": "fj6Az0uF_NOD"
      },
      "source": [
        "from nltk.corpus import stopwords\n",
        "\n",
        "def text_process(body):\n",
        "    STOPWORDS = stopwords.words('english')\n",
        "\n",
        "    #remove punctuation\n",
        "    nopunc = [char for char in body if char not in string.punctuation]\n",
        "    nopunc = ''.join(nopunc)\n",
        "    \n",
        "    # remove stopwords\n",
        "    nostopwords = ' '.join([word for word in nopunc.split() if word.lower() not in STOPWORDS])\n",
        "\n",
        "    return nostopwords"
      ],
      "execution_count": null,
      "outputs": []
    },
    {
      "cell_type": "code",
      "metadata": {
        "id": "Vrowe4dy_PIu"
      },
      "source": [
        "news['clean_desc'] = news['Description'].apply(text_process)"
      ],
      "execution_count": null,
      "outputs": []
    },
    {
      "cell_type": "markdown",
      "metadata": {
        "id": "e0FNYDyPqtUm"
      },
      "source": [
        "### Splitting"
      ]
    },
    {
      "cell_type": "code",
      "metadata": {
        "id": "4ebDi677ou7T"
      },
      "source": [
        "news['Class Index'] -= 1"
      ],
      "execution_count": null,
      "outputs": []
    },
    {
      "cell_type": "code",
      "metadata": {
        "id": "lNWnDf7OqZjr"
      },
      "source": [
        "desc = news['clean_desc'].values\n",
        "label = news['Class Index'].values\n",
        "\n",
        "train_news, test_news, train_label, test_label = train_test_split(desc, label, test_size=0.2, shuffle=True)"
      ],
      "execution_count": null,
      "outputs": []
    },
    {
      "cell_type": "code",
      "metadata": {
        "id": "1XhX7RRrrmZV",
        "outputId": "507d952a-9b5b-459e-fa31-5f6f8e9b4611",
        "colab": {
          "base_uri": "https://localhost:8080/",
          "height": 51
        }
      },
      "source": [
        "print(\"Total train: \", len(train_news))\n",
        "print(\"Total test: \", len(test_news))"
      ],
      "execution_count": null,
      "outputs": [
        {
          "output_type": "stream",
          "text": [
            "Total train:  102080\n",
            "Total test:  25520\n"
          ],
          "name": "stdout"
        }
      ]
    },
    {
      "cell_type": "markdown",
      "metadata": {
        "id": "ymWNF5mirxBx"
      },
      "source": [
        "## More pre-process dataset"
      ]
    },
    {
      "cell_type": "code",
      "metadata": {
        "id": "tP04fALbrtkM"
      },
      "source": [
        "from tensorflow.keras.preprocessing.text import Tokenizer\n",
        "from tensorflow.keras.preprocessing.sequence import pad_sequences"
      ],
      "execution_count": null,
      "outputs": []
    },
    {
      "cell_type": "code",
      "metadata": {
        "id": "kSxqXFV3tRtQ"
      },
      "source": [
        "NUM_WORDS = 1000\n",
        "LENGTH = 250\n",
        "OOV_TOKEN = \"<OOV>\"\n",
        "EMBEDDING_DIMS = 16"
      ],
      "execution_count": null,
      "outputs": []
    },
    {
      "cell_type": "code",
      "metadata": {
        "id": "eDy1VOwktM7j",
        "outputId": "bc354b7a-0c88-40f3-ab9f-4c61a27b35fb",
        "colab": {
          "base_uri": "https://localhost:8080/",
          "height": 51
        }
      },
      "source": [
        "tokenizer = Tokenizer(num_words=NUM_WORDS, oov_token=\"<OOV>\")\n",
        "tokenizer.fit_on_texts(train_news)\n",
        "\n",
        "print(\"total word index: \", len(tokenizer.word_index))\n",
        "\n",
        "train_seq = tokenizer.texts_to_sequences(train_news)\n",
        "test_seq = tokenizer.texts_to_sequences(test_news)\n",
        "\n",
        "train_padded = pad_sequences(train_seq, maxlen=LENGTH, padding='post', truncating='post')\n",
        "test_padded = pad_sequences(test_seq, maxlen=LENGTH, padding='post', truncating='post')\n",
        "\n",
        "print(\"lenght: \", len(train_padded[0]))"
      ],
      "execution_count": null,
      "outputs": [
        {
          "output_type": "stream",
          "text": [
            "total word index:  94303\n",
            "lenght:  250\n"
          ],
          "name": "stdout"
        }
      ]
    },
    {
      "cell_type": "code",
      "metadata": {
        "id": "YQyH5Dl3urLk",
        "outputId": "c82cf13a-84ef-4830-eb78-cef6b737efba",
        "colab": {
          "base_uri": "https://localhost:8080/",
          "height": 309
        }
      },
      "source": [
        "print(train_news[1000])\n",
        "print(train_padded[1000])\n",
        "print(train_label[1000])"
      ],
      "execution_count": null,
      "outputs": [
        {
          "output_type": "stream",
          "text": [
            "Dig hype companies dish Whenever mutualfund company makes announcement designed build public 39s excitement interest investors start looking answer one simple question quotWhat 39s big deal\n",
            "[  1   1 132   1   1   1  16 543   1 817 941 279   2   1 469 218 205 680\n",
            "   1  17   1   1   1   2 160  61   0   0   0   0   0   0   0   0   0   0\n",
            "   0   0   0   0   0   0   0   0   0   0   0   0   0   0   0   0   0   0\n",
            "   0   0   0   0   0   0   0   0   0   0   0   0   0   0   0   0   0   0\n",
            "   0   0   0   0   0   0   0   0   0   0   0   0   0   0   0   0   0   0\n",
            "   0   0   0   0   0   0   0   0   0   0   0   0   0   0   0   0   0   0\n",
            "   0   0   0   0   0   0   0   0   0   0   0   0   0   0   0   0   0   0\n",
            "   0   0   0   0   0   0   0   0   0   0   0   0   0   0   0   0   0   0\n",
            "   0   0   0   0   0   0   0   0   0   0   0   0   0   0   0   0   0   0\n",
            "   0   0   0   0   0   0   0   0   0   0   0   0   0   0   0   0   0   0\n",
            "   0   0   0   0   0   0   0   0   0   0   0   0   0   0   0   0   0   0\n",
            "   0   0   0   0   0   0   0   0   0   0   0   0   0   0   0   0   0   0\n",
            "   0   0   0   0   0   0   0   0   0   0   0   0   0   0   0   0   0   0\n",
            "   0   0   0   0   0   0   0   0   0   0   0   0   0   0   0   0]\n",
            "2\n"
          ],
          "name": "stdout"
        }
      ]
    },
    {
      "cell_type": "markdown",
      "metadata": {
        "id": "Kxl8MSTIwDMD"
      },
      "source": [
        "## Modeling"
      ]
    },
    {
      "cell_type": "markdown",
      "metadata": {
        "id": "85bmkB2ixQNy"
      },
      "source": [
        "### Build model"
      ]
    },
    {
      "cell_type": "code",
      "metadata": {
        "id": "Y-SnBoTevkyg"
      },
      "source": [
        "import tensorflow as tf\n",
        "from tensorflow.keras.regularizers import l2"
      ],
      "execution_count": null,
      "outputs": []
    },
    {
      "cell_type": "code",
      "metadata": {
        "id": "M2krNEWsy2NA"
      },
      "source": [
        "#stop if no improvement on val_acc after 20 epochs\n",
        "early_stop = tf.keras.callbacks.EarlyStopping(\n",
        "    monitor='val_acc', patience=50, min_delta=0.0001\n",
        "    )"
      ],
      "execution_count": null,
      "outputs": []
    },
    {
      "cell_type": "code",
      "metadata": {
        "id": "fKr9cQjigaRd"
      },
      "source": [
        "#start with big learning rate and reduce if val_acc plateaued\n",
        "reduce_on_plateau = tf.keras.callbacks.ReduceLROnPlateau(\n",
        "                    monitor='val_acc', factor=0.1, patience=20, verbose=0, mode='auto',\n",
        "                    min_delta=0.0001, cooldown=5, min_lr=1e-8\n",
        "                )"
      ],
      "execution_count": null,
      "outputs": []
    },
    {
      "cell_type": "code",
      "metadata": {
        "id": "7qIFFc5TwLCM",
        "outputId": "fccb4582-0530-4d13-bb4a-829a7b13e80a",
        "colab": {
          "base_uri": "https://localhost:8080/",
          "height": 527
        }
      },
      "source": [
        "model = tf.keras.models.Sequential([\n",
        "        tf.keras.layers.Embedding(input_dim=NUM_WORDS, output_dim=EMBEDDING_DIMS,\n",
        "                                  input_length=LENGTH),\n",
        "        tf.keras.layers.Bidirectional(tf.keras.layers.LSTM(128, return_sequences=True, kernel_regularizer=l2(1e-5))),\n",
        "        tf.keras.layers.Dropout(0.2),\n",
        "        tf.keras.layers.GlobalMaxPool1D(),\n",
        "        tf.keras.layers.Dense(32, activation='relu'),\n",
        "        tf.keras.layers.Dropout(0.25),\n",
        "        tf.keras.layers.Dense(16, activation='relu'),\n",
        "        tf.keras.layers.Dropout(0.25),\n",
        "        tf.keras.layers.Dense(8, activation='relu'),\n",
        "        tf.keras.layers.Dropout(0.25),\n",
        "        tf.keras.layers.Dense(4, activation='softmax')\n",
        "])\n",
        "\n",
        "model.compile(\n",
        "    loss='sparse_categorical_crossentropy',\n",
        "    optimizer=tf.keras.optimizers.Adam(lr=1e-2),\n",
        "    metrics=['acc']\n",
        ")\n",
        "\n",
        "model.summary()"
      ],
      "execution_count": null,
      "outputs": [
        {
          "output_type": "stream",
          "text": [
            "Model: \"sequential_8\"\n",
            "_________________________________________________________________\n",
            "Layer (type)                 Output Shape              Param #   \n",
            "=================================================================\n",
            "embedding_8 (Embedding)      (None, 250, 16)           16000     \n",
            "_________________________________________________________________\n",
            "bidirectional_17 (Bidirectio (None, 250, 256)          148480    \n",
            "_________________________________________________________________\n",
            "dropout_27 (Dropout)         (None, 250, 256)          0         \n",
            "_________________________________________________________________\n",
            "global_max_pooling1d_8 (Glob (None, 256)               0         \n",
            "_________________________________________________________________\n",
            "dense_31 (Dense)             (None, 32)                8224      \n",
            "_________________________________________________________________\n",
            "dropout_28 (Dropout)         (None, 32)                0         \n",
            "_________________________________________________________________\n",
            "dense_32 (Dense)             (None, 16)                528       \n",
            "_________________________________________________________________\n",
            "dropout_29 (Dropout)         (None, 16)                0         \n",
            "_________________________________________________________________\n",
            "dense_33 (Dense)             (None, 8)                 136       \n",
            "_________________________________________________________________\n",
            "dropout_30 (Dropout)         (None, 8)                 0         \n",
            "_________________________________________________________________\n",
            "dense_34 (Dense)             (None, 4)                 36        \n",
            "=================================================================\n",
            "Total params: 173,404\n",
            "Trainable params: 173,404\n",
            "Non-trainable params: 0\n",
            "_________________________________________________________________\n"
          ],
          "name": "stdout"
        }
      ]
    },
    {
      "cell_type": "markdown",
      "metadata": {
        "id": "1CVMNrRnxSsA"
      },
      "source": [
        "### Training"
      ]
    },
    {
      "cell_type": "code",
      "metadata": {
        "id": "jZH8DKCvxSa7",
        "outputId": "386744f7-9e87-44c2-a0fa-84515c4f8cc8",
        "colab": {
          "base_uri": "https://localhost:8080/",
          "height": 1000
        }
      },
      "source": [
        "history = model.fit(train_padded, train_label,\n",
        "                    epochs=300,\n",
        "                    batch_size=2048,\n",
        "                    validation_data=(test_padded, test_label),\n",
        "                    callbacks=[reduce_on_plateau, early_stop])"
      ],
      "execution_count": null,
      "outputs": [
        {
          "output_type": "stream",
          "text": [
            "Epoch 1/300\n",
            "50/50 [==============================] - 21s 421ms/step - loss: 1.3204 - acc: 0.3255 - val_loss: 1.0839 - val_acc: 0.4642\n",
            "Epoch 2/300\n",
            "50/50 [==============================] - 20s 391ms/step - loss: 1.0134 - acc: 0.4694 - val_loss: 0.9208 - val_acc: 0.5432\n",
            "Epoch 3/300\n",
            "50/50 [==============================] - 19s 383ms/step - loss: 0.8737 - acc: 0.5962 - val_loss: 0.7570 - val_acc: 0.6534\n",
            "Epoch 4/300\n",
            "50/50 [==============================] - 19s 376ms/step - loss: 0.7967 - acc: 0.6479 - val_loss: 0.6931 - val_acc: 0.7180\n",
            "Epoch 5/300\n",
            "50/50 [==============================] - 19s 374ms/step - loss: 0.7503 - acc: 0.7065 - val_loss: 0.6341 - val_acc: 0.7820\n",
            "Epoch 6/300\n",
            "50/50 [==============================] - 19s 383ms/step - loss: 0.7030 - acc: 0.7482 - val_loss: 0.5871 - val_acc: 0.7939\n",
            "Epoch 7/300\n",
            "50/50 [==============================] - 19s 386ms/step - loss: 0.6662 - acc: 0.7667 - val_loss: 0.5612 - val_acc: 0.8169\n",
            "Epoch 8/300\n",
            "50/50 [==============================] - 19s 386ms/step - loss: 0.6486 - acc: 0.7736 - val_loss: 0.5693 - val_acc: 0.7924\n",
            "Epoch 9/300\n",
            "50/50 [==============================] - 19s 387ms/step - loss: 0.6337 - acc: 0.7846 - val_loss: 0.5365 - val_acc: 0.8210\n",
            "Epoch 10/300\n",
            "50/50 [==============================] - 19s 384ms/step - loss: 0.6164 - acc: 0.7934 - val_loss: 0.5212 - val_acc: 0.8324\n",
            "Epoch 11/300\n",
            "50/50 [==============================] - 19s 382ms/step - loss: 0.6084 - acc: 0.7965 - val_loss: 0.5518 - val_acc: 0.7976\n",
            "Epoch 12/300\n",
            "50/50 [==============================] - 19s 380ms/step - loss: 0.6098 - acc: 0.7959 - val_loss: 0.5497 - val_acc: 0.8058\n",
            "Epoch 13/300\n",
            "50/50 [==============================] - 19s 384ms/step - loss: 0.5967 - acc: 0.8022 - val_loss: 0.5380 - val_acc: 0.8170\n",
            "Epoch 14/300\n",
            "50/50 [==============================] - 19s 388ms/step - loss: 0.5916 - acc: 0.8024 - val_loss: 0.5498 - val_acc: 0.8040\n",
            "Epoch 15/300\n",
            "50/50 [==============================] - 19s 388ms/step - loss: 0.5810 - acc: 0.8078 - val_loss: 0.5217 - val_acc: 0.8276\n",
            "Epoch 16/300\n",
            "50/50 [==============================] - 19s 388ms/step - loss: 0.5724 - acc: 0.8123 - val_loss: 0.5641 - val_acc: 0.8003\n",
            "Epoch 17/300\n",
            "50/50 [==============================] - 19s 385ms/step - loss: 0.5659 - acc: 0.8129 - val_loss: 0.5218 - val_acc: 0.8171\n",
            "Epoch 18/300\n",
            "50/50 [==============================] - 19s 381ms/step - loss: 0.5577 - acc: 0.8148 - val_loss: 0.5246 - val_acc: 0.8246\n",
            "Epoch 19/300\n",
            "50/50 [==============================] - 19s 381ms/step - loss: 0.5510 - acc: 0.8174 - val_loss: 0.4980 - val_acc: 0.8363\n",
            "Epoch 20/300\n",
            "50/50 [==============================] - 19s 385ms/step - loss: 0.5491 - acc: 0.8185 - val_loss: 0.5215 - val_acc: 0.8166\n",
            "Epoch 21/300\n",
            "50/50 [==============================] - 19s 389ms/step - loss: 0.5464 - acc: 0.8182 - val_loss: 0.4855 - val_acc: 0.8466\n",
            "Epoch 22/300\n",
            "50/50 [==============================] - 19s 389ms/step - loss: 0.5387 - acc: 0.8221 - val_loss: 0.4766 - val_acc: 0.8484\n",
            "Epoch 23/300\n",
            "50/50 [==============================] - 19s 388ms/step - loss: 0.5279 - acc: 0.8239 - val_loss: 0.5094 - val_acc: 0.8277\n",
            "Epoch 24/300\n",
            "50/50 [==============================] - 19s 387ms/step - loss: 0.5287 - acc: 0.8240 - val_loss: 0.5071 - val_acc: 0.8319\n",
            "Epoch 25/300\n",
            "50/50 [==============================] - 19s 381ms/step - loss: 0.5219 - acc: 0.8245 - val_loss: 0.4865 - val_acc: 0.8446\n",
            "Epoch 26/300\n",
            "50/50 [==============================] - 19s 380ms/step - loss: 0.5202 - acc: 0.8249 - val_loss: 0.5193 - val_acc: 0.8413\n",
            "Epoch 27/300\n",
            "50/50 [==============================] - 19s 385ms/step - loss: 0.5194 - acc: 0.8261 - val_loss: 0.4918 - val_acc: 0.8432\n",
            "Epoch 28/300\n",
            "50/50 [==============================] - 19s 389ms/step - loss: 0.5127 - acc: 0.8281 - val_loss: 0.5217 - val_acc: 0.8240\n",
            "Epoch 29/300\n",
            "50/50 [==============================] - 19s 388ms/step - loss: 0.5048 - acc: 0.8287 - val_loss: 0.5291 - val_acc: 0.8343\n",
            "Epoch 30/300\n",
            "50/50 [==============================] - 19s 389ms/step - loss: 0.5032 - acc: 0.8325 - val_loss: 0.5082 - val_acc: 0.8424\n",
            "Epoch 31/300\n",
            "50/50 [==============================] - 19s 387ms/step - loss: 0.4965 - acc: 0.8327 - val_loss: 0.5304 - val_acc: 0.8320\n",
            "Epoch 32/300\n",
            "50/50 [==============================] - 19s 382ms/step - loss: 0.4986 - acc: 0.8328 - val_loss: 0.5114 - val_acc: 0.8446\n",
            "Epoch 33/300\n",
            "50/50 [==============================] - 19s 382ms/step - loss: 0.4858 - acc: 0.8353 - val_loss: 0.5159 - val_acc: 0.8420\n",
            "Epoch 34/300\n",
            "50/50 [==============================] - 19s 383ms/step - loss: 0.4869 - acc: 0.8361 - val_loss: 0.5113 - val_acc: 0.8493\n",
            "Epoch 35/300\n",
            "50/50 [==============================] - 19s 388ms/step - loss: 0.4830 - acc: 0.8367 - val_loss: 0.5177 - val_acc: 0.8441\n",
            "Epoch 36/300\n",
            "50/50 [==============================] - 19s 387ms/step - loss: 0.4696 - acc: 0.8407 - val_loss: 0.5116 - val_acc: 0.8355\n",
            "Epoch 37/300\n",
            "50/50 [==============================] - 19s 390ms/step - loss: 0.4709 - acc: 0.8420 - val_loss: 0.5305 - val_acc: 0.8372\n",
            "Epoch 38/300\n",
            "50/50 [==============================] - 19s 386ms/step - loss: 0.4632 - acc: 0.8425 - val_loss: 0.5453 - val_acc: 0.8378\n",
            "Epoch 39/300\n",
            "50/50 [==============================] - 19s 380ms/step - loss: 0.4622 - acc: 0.8425 - val_loss: 0.5643 - val_acc: 0.8186\n",
            "Epoch 40/300\n",
            "50/50 [==============================] - 19s 381ms/step - loss: 0.4623 - acc: 0.8431 - val_loss: 0.5627 - val_acc: 0.8402\n",
            "Epoch 41/300\n",
            "50/50 [==============================] - 19s 384ms/step - loss: 0.4645 - acc: 0.8424 - val_loss: 0.5629 - val_acc: 0.8172\n",
            "Epoch 42/300\n",
            "50/50 [==============================] - 19s 389ms/step - loss: 0.4687 - acc: 0.8400 - val_loss: 0.5432 - val_acc: 0.8525\n",
            "Epoch 43/300\n",
            "50/50 [==============================] - 19s 388ms/step - loss: 0.4617 - acc: 0.8418 - val_loss: 0.5401 - val_acc: 0.8420\n",
            "Epoch 44/300\n",
            "50/50 [==============================] - 20s 391ms/step - loss: 0.4533 - acc: 0.8448 - val_loss: 0.6138 - val_acc: 0.8384\n",
            "Epoch 45/300\n",
            "50/50 [==============================] - 19s 385ms/step - loss: 0.4435 - acc: 0.8486 - val_loss: 0.5514 - val_acc: 0.8422\n",
            "Epoch 46/300\n",
            "50/50 [==============================] - 19s 381ms/step - loss: 0.4467 - acc: 0.8468 - val_loss: 0.5499 - val_acc: 0.8207\n",
            "Epoch 47/300\n",
            "50/50 [==============================] - 19s 379ms/step - loss: 0.4798 - acc: 0.8363 - val_loss: 0.5556 - val_acc: 0.8455\n",
            "Epoch 48/300\n",
            "50/50 [==============================] - 19s 383ms/step - loss: 0.4585 - acc: 0.8436 - val_loss: 0.5420 - val_acc: 0.8482\n",
            "Epoch 49/300\n",
            "50/50 [==============================] - 19s 389ms/step - loss: 0.4463 - acc: 0.8491 - val_loss: 0.5666 - val_acc: 0.8370\n",
            "Epoch 50/300\n",
            "50/50 [==============================] - 19s 390ms/step - loss: 0.4364 - acc: 0.8533 - val_loss: 0.5810 - val_acc: 0.8342\n",
            "Epoch 51/300\n",
            "50/50 [==============================] - 20s 391ms/step - loss: 0.4440 - acc: 0.8510 - val_loss: 0.6072 - val_acc: 0.8484\n",
            "Epoch 52/300\n",
            "50/50 [==============================] - 19s 384ms/step - loss: 0.4363 - acc: 0.8536 - val_loss: 0.5535 - val_acc: 0.8346\n",
            "Epoch 53/300\n",
            "50/50 [==============================] - 19s 381ms/step - loss: 0.4618 - acc: 0.8453 - val_loss: 0.5665 - val_acc: 0.8247\n",
            "Epoch 54/300\n",
            "50/50 [==============================] - 19s 380ms/step - loss: 0.4376 - acc: 0.8529 - val_loss: 0.6108 - val_acc: 0.8298\n",
            "Epoch 55/300\n",
            "50/50 [==============================] - 19s 384ms/step - loss: 0.4290 - acc: 0.8592 - val_loss: 0.5731 - val_acc: 0.8383\n",
            "Epoch 56/300\n",
            "50/50 [==============================] - 19s 388ms/step - loss: 0.4339 - acc: 0.8571 - val_loss: 0.6270 - val_acc: 0.8469\n",
            "Epoch 57/300\n",
            "50/50 [==============================] - 20s 391ms/step - loss: 0.4202 - acc: 0.8590 - val_loss: 0.6136 - val_acc: 0.8477\n",
            "Epoch 58/300\n",
            "50/50 [==============================] - 20s 390ms/step - loss: 0.4172 - acc: 0.8638 - val_loss: 0.6329 - val_acc: 0.8399\n",
            "Epoch 59/300\n",
            "50/50 [==============================] - 19s 385ms/step - loss: 0.4177 - acc: 0.8658 - val_loss: 0.6209 - val_acc: 0.8283\n",
            "Epoch 60/300\n",
            "50/50 [==============================] - 19s 380ms/step - loss: 0.4105 - acc: 0.8692 - val_loss: 0.6301 - val_acc: 0.8472\n",
            "Epoch 61/300\n",
            "50/50 [==============================] - 19s 381ms/step - loss: 0.4344 - acc: 0.8618 - val_loss: 0.6006 - val_acc: 0.8482\n",
            "Epoch 62/300\n",
            "50/50 [==============================] - 19s 384ms/step - loss: 0.4163 - acc: 0.8690 - val_loss: 0.6507 - val_acc: 0.8417\n",
            "Epoch 63/300\n",
            "50/50 [==============================] - 20s 391ms/step - loss: 0.3869 - acc: 0.8787 - val_loss: 0.6858 - val_acc: 0.8446\n",
            "Epoch 64/300\n",
            "50/50 [==============================] - 20s 391ms/step - loss: 0.3718 - acc: 0.8838 - val_loss: 0.7461 - val_acc: 0.8467\n",
            "Epoch 65/300\n",
            "50/50 [==============================] - 19s 389ms/step - loss: 0.3622 - acc: 0.8868 - val_loss: 0.7927 - val_acc: 0.8439\n",
            "Epoch 66/300\n",
            "50/50 [==============================] - 19s 385ms/step - loss: 0.3554 - acc: 0.8899 - val_loss: 0.8227 - val_acc: 0.8444\n",
            "Epoch 67/300\n",
            "50/50 [==============================] - 19s 380ms/step - loss: 0.3496 - acc: 0.8927 - val_loss: 0.8803 - val_acc: 0.8465\n",
            "Epoch 68/300\n",
            "50/50 [==============================] - 19s 381ms/step - loss: 0.3443 - acc: 0.8930 - val_loss: 0.9111 - val_acc: 0.8469\n",
            "Epoch 69/300\n",
            "50/50 [==============================] - 19s 384ms/step - loss: 0.3402 - acc: 0.8943 - val_loss: 0.9368 - val_acc: 0.8424\n",
            "Epoch 70/300\n",
            "50/50 [==============================] - 20s 390ms/step - loss: 0.3368 - acc: 0.8955 - val_loss: 0.9524 - val_acc: 0.8456\n",
            "Epoch 71/300\n",
            "50/50 [==============================] - 20s 390ms/step - loss: 0.3343 - acc: 0.8975 - val_loss: 1.0098 - val_acc: 0.8475\n",
            "Epoch 72/300\n",
            "50/50 [==============================] - 20s 390ms/step - loss: 0.3268 - acc: 0.9000 - val_loss: 1.0184 - val_acc: 0.8462\n",
            "Epoch 73/300\n",
            "50/50 [==============================] - 19s 385ms/step - loss: 0.3279 - acc: 0.8989 - val_loss: 1.0814 - val_acc: 0.8447\n",
            "Epoch 74/300\n",
            "50/50 [==============================] - 19s 380ms/step - loss: 0.3231 - acc: 0.9013 - val_loss: 1.1141 - val_acc: 0.8470\n",
            "Epoch 75/300\n",
            "50/50 [==============================] - 19s 381ms/step - loss: 0.3206 - acc: 0.9024 - val_loss: 1.1369 - val_acc: 0.8471\n",
            "Epoch 76/300\n",
            "50/50 [==============================] - 19s 384ms/step - loss: 0.3205 - acc: 0.9023 - val_loss: 1.1628 - val_acc: 0.8440\n",
            "Epoch 77/300\n",
            "50/50 [==============================] - 20s 391ms/step - loss: 0.3144 - acc: 0.9045 - val_loss: 1.2095 - val_acc: 0.8456\n",
            "Epoch 78/300\n",
            "50/50 [==============================] - 20s 390ms/step - loss: 0.3116 - acc: 0.9053 - val_loss: 1.2791 - val_acc: 0.8472\n",
            "Epoch 79/300\n",
            "50/50 [==============================] - 19s 389ms/step - loss: 0.3122 - acc: 0.9058 - val_loss: 1.2616 - val_acc: 0.8432\n",
            "Epoch 80/300\n",
            "50/50 [==============================] - 19s 385ms/step - loss: 0.3058 - acc: 0.9070 - val_loss: 1.3196 - val_acc: 0.8491\n",
            "Epoch 81/300\n",
            "50/50 [==============================] - 19s 380ms/step - loss: 0.3037 - acc: 0.9076 - val_loss: 1.3778 - val_acc: 0.8470\n",
            "Epoch 82/300\n",
            "50/50 [==============================] - 19s 380ms/step - loss: 0.3032 - acc: 0.9084 - val_loss: 1.3837 - val_acc: 0.8483\n",
            "Epoch 83/300\n",
            "50/50 [==============================] - 19s 384ms/step - loss: 0.3010 - acc: 0.9091 - val_loss: 1.4581 - val_acc: 0.8499\n",
            "Epoch 84/300\n",
            "50/50 [==============================] - 20s 391ms/step - loss: 0.2997 - acc: 0.9100 - val_loss: 1.4913 - val_acc: 0.8483\n",
            "Epoch 85/300\n",
            "50/50 [==============================] - 19s 389ms/step - loss: 0.2948 - acc: 0.9120 - val_loss: 1.5576 - val_acc: 0.8449\n",
            "Epoch 86/300\n",
            "50/50 [==============================] - 19s 389ms/step - loss: 0.2960 - acc: 0.9118 - val_loss: 1.5413 - val_acc: 0.8469\n",
            "Epoch 87/300\n",
            "50/50 [==============================] - 19s 384ms/step - loss: 0.2886 - acc: 0.9135 - val_loss: 1.5850 - val_acc: 0.8486\n",
            "Epoch 88/300\n",
            "50/50 [==============================] - 19s 380ms/step - loss: 0.2880 - acc: 0.9141 - val_loss: 1.6076 - val_acc: 0.8487\n",
            "Epoch 89/300\n",
            "50/50 [==============================] - 19s 380ms/step - loss: 0.2850 - acc: 0.9148 - val_loss: 1.6099 - val_acc: 0.8485\n",
            "Epoch 90/300\n",
            "50/50 [==============================] - 19s 385ms/step - loss: 0.2869 - acc: 0.9147 - val_loss: 1.6301 - val_acc: 0.8494\n",
            "Epoch 91/300\n",
            "50/50 [==============================] - 19s 390ms/step - loss: 0.2864 - acc: 0.9145 - val_loss: 1.6329 - val_acc: 0.8482\n",
            "Epoch 92/300\n",
            "50/50 [==============================] - 19s 389ms/step - loss: 0.2855 - acc: 0.9144 - val_loss: 1.6434 - val_acc: 0.8493\n"
          ],
          "name": "stdout"
        }
      ]
    },
    {
      "cell_type": "markdown",
      "metadata": {
        "id": "6CgqvpzKxlv8"
      },
      "source": [
        "## Plot training result"
      ]
    },
    {
      "cell_type": "code",
      "metadata": {
        "id": "uAUx5m0ox0EP"
      },
      "source": [
        "def plot(history):\n",
        "  graf = history.history\n",
        "  graf['epoch'] = history.epoch\n",
        "\n",
        "  fig, ax = plt.subplots(nrows=1, ncols=3, figsize=(20, 5))\n",
        "\n",
        "  ax[0].plot(graf['epoch'], graf['loss'], label='Loss')\n",
        "  ax[0].plot(graf['epoch'], graf['val_loss'], label='Val Loss', color='orange')\n",
        "\n",
        "  ax[0].set_xlabel('Epochs')\n",
        "  ax[0].set_ylabel('Score')\n",
        "  ax[0].set_title('Loss')\n",
        "  ax[0].legend()\n",
        "\n",
        "  ax[1].plot(graf['epoch'], graf['acc'], label='Accuracy')\n",
        "  ax[1].plot(graf['epoch'], graf['val_acc'], label='Val Accuracy', color='orange')\n",
        "\n",
        "  ax[1].set_xlabel('Epochs')\n",
        "  ax[1].set_ylabel('Score')\n",
        "  ax[1].set_title('Accuracy')\n",
        "  ax[1].legend()\n",
        "\n",
        "  ax[2].plot(graf['epoch'], graf['lr'], label='Learning Rate')\n",
        "\n",
        "  ax[2].set_xlabel('Epochs')\n",
        "  ax[2].set_ylabel('Value')\n",
        "  ax[2].set_title('Learning Rate')\n",
        "\n",
        "  return plt.show()"
      ],
      "execution_count": null,
      "outputs": []
    },
    {
      "cell_type": "code",
      "metadata": {
        "id": "4_LxXuqd4mFa",
        "outputId": "08e2f78d-caac-4b12-90aa-2bbc51ae0371",
        "colab": {
          "base_uri": "https://localhost:8080/",
          "height": 286
        }
      },
      "source": [
        "plot(history)"
      ],
      "execution_count": null,
      "outputs": [
        {
          "output_type": "display_data",
          "data": {
            "image/png": "[encoded data removed]",
            "text/plain": [
              "<Figure size 1440x360 with 3 Axes>"
            ]
          },
          "metadata": {
            "tags": []
          }
        }
      ]
    },
    {
      "cell_type": "code",
      "metadata": {
        "id": "hxXArgwc4nTE",
        "outputId": "be624940-904c-47c0-c096-9f56df457c28",
        "colab": {
          "base_uri": "https://localhost:8080/",
          "height": 34
        }
      },
      "source": [
        "print(\"Overfitting dikit :((\")"
      ],
      "execution_count": null,
      "outputs": [
        {
          "output_type": "stream",
          "text": [
            "Overfitting dikit :((\n"
          ],
          "name": "stdout"
        }
      ]
    },
    {
      "cell_type": "code",
      "metadata": {
        "id": "-NUbq3EkFsMt"
      },
      "source": [
        ""
      ],
      "execution_count": null,
      "outputs": []
    }
  ]
}